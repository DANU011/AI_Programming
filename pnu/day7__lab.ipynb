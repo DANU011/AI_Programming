{
 "nbformat": 4,
 "nbformat_minor": 0,
 "metadata": {
  "colab": {
   "provenance": []
  },
  "kernelspec": {
   "name": "python3",
   "language": "python",
   "display_name": "Python 3 (ipykernel)"
  },
  "language_info": {
   "name": "python"
  }
 },
 "cells": [
  {
   "cell_type": "markdown",
   "source": [
    "# Lab11"
   ],
   "metadata": {
    "id": "ZYJeA4fpcGNk"
   }
  },
  {
   "cell_type": "markdown",
   "source": [
    "## 0. Prerequisite"
   ],
   "metadata": {
    "id": "0AZqhmeccW7p"
   }
  },
  {
   "cell_type": "code",
   "source": [
    "!pip install mypy\n",
    "from IPython.core.magic import register_cell_magic\n",
    "from IPython import get_ipython\n",
    "from mypy import api\n",
    "\n",
    "@register_cell_magic\n",
    "def mypy(line, cell):\n",
    "  for output in api.run(['-c', '\\n' + cell] + line.split()):\n",
    "    if output and not output.startswith('Success'):\n",
    "      raise TypeError(output)\n",
    "  get_ipython().run_cell(cell)"
   ],
   "metadata": {
    "colab": {
     "base_uri": "https://localhost:8080/"
    },
    "id": "gyxzozzA4prN",
    "outputId": "fe149f03-ba42-4644-fe8f-ab43036d49ea"
   },
   "execution_count": null,
   "outputs": [
    {
     "output_type": "stream",
     "name": "stdout",
     "text": [
      "Looking in indexes: https://pypi.org/simple, https://us-python.pkg.dev/colab-wheels/public/simple/\n",
      "Collecting mypy\n",
      "  Downloading mypy-1.2.0-cp39-cp39-manylinux_2_17_x86_64.manylinux2014_x86_64.whl (12.2 MB)\n",
      "\u001B[2K     \u001B[90m━━━━━━━━━━━━━━━━━━━━━━━━━━━━━━━━━━━━━━━━\u001B[0m \u001B[32m12.2/12.2 MB\u001B[0m \u001B[31m9.8 MB/s\u001B[0m eta \u001B[36m0:00:00\u001B[0m\n",
      "\u001B[?25hRequirement already satisfied: typing-extensions>=3.10 in /usr/local/lib/python3.9/dist-packages (from mypy) (4.5.0)\n",
      "Collecting mypy-extensions>=1.0.0\n",
      "  Downloading mypy_extensions-1.0.0-py3-none-any.whl (4.7 kB)\n",
      "Requirement already satisfied: tomli>=1.1.0 in /usr/local/lib/python3.9/dist-packages (from mypy) (2.0.1)\n",
      "Installing collected packages: mypy-extensions, mypy\n",
      "Successfully installed mypy-1.2.0 mypy-extensions-1.0.0\n"
     ]
    }
   ]
  },
  {
   "cell_type": "code",
   "source": [
    "# from google.colab import drive\n",
    "\n",
    "# drive.mount('/content/gdrive/', force_remount=True)\n"
   ],
   "metadata": {
    "colab": {
     "base_uri": "https://localhost:8080/"
    },
    "id": "ZDeM7aGRQfp2",
    "outputId": "baf1b3ed-180e-4298-fe7d-2cdc04fe3333"
   },
   "execution_count": null,
   "outputs": [
    {
     "output_type": "stream",
     "name": "stdout",
     "text": [
      "Mounted at /content/gdrive/\n"
     ]
    }
   ]
  },
  {
   "cell_type": "markdown",
   "source": [
    "## User-Defined Classes\n",
    "\n",
    "\n"
   ],
   "metadata": {
    "id": "AL3MoBZO5NpL"
   }
  },
  {
   "cell_type": "code",
   "source": [
    "class Rectangle:\n",
    "  def __init__(self, width=1, height=1):\n",
    "    self._width = width\n",
    "    self._height = height\n",
    "    self.__width = width\n",
    "    self.__height = height\n",
    "\n",
    "  def setWidth(self, width):\n",
    "    self._width = width\n",
    "\n",
    "  def setHeight(self, height):\n",
    "    self._height = height\n",
    "\n",
    "  def getWidth(self):\n",
    "    return self._width\n",
    "\n",
    "  def getHeight(self):\n",
    "    return self._height\n",
    "\n",
    "  def area(self):\n",
    "    return self._width * self._height\n",
    "\n",
    "  def perimeter(self):\n",
    "    return 2 * (self._width + self._height)    \n",
    "\n",
    "  def __area(self):\n",
    "      return self.__width * self.__height\n",
    "\n",
    "  def __perimeter(self):\n",
    "      return 2 * (self.__width + self.__height)\n",
    "\n",
    "  def __str__(self):\n",
    "    return (\"Width: \" + str(self._width) + \"\\nHeight: \" + str(self._height))    \n"
   ],
   "metadata": {
    "id": "M3ABCUJiIqOC"
   },
   "execution_count": null,
   "outputs": []
  },
  {
   "cell_type": "code",
   "source": [
    "# Create a rectangle of width 4 and height 5\n",
    "r = Rectangle(4, 5)\n",
    "print(r) # Uses the __str__ method to report the state\n",
    "# Create a rectangle with the default values for width and\n",
    "# height\n",
    "r = Rectangle()\n",
    "print(r)\n",
    "# Create a rectangle of width 4 and default height 1\n",
    "r = Rectangle(4)\n",
    "print(r)\n",
    "r = Rectangle()\n",
    "# Use the mutator methods.\n",
    "r.setWidth(4)\n",
    "r.setHeight(5)\n",
    "print(\"The rectangle has the following measurements:\")\n",
    "# Use the accessor methods.\n",
    "print(\"Width is\", r.getWidth())\n",
    "print(\"Height is\", r.getHeight())\n",
    "# Use other methods.\n",
    "print(\"Area is\", r.area())\n",
    "print(\"Perimeter is\", r.perimeter())"
   ],
   "metadata": {
    "colab": {
     "base_uri": "https://localhost:8080/"
    },
    "id": "ywmEZzMyLzZk",
    "outputId": "3fbe0228-de84-4313-ad16-921d19e2c676"
   },
   "execution_count": null,
   "outputs": [
    {
     "output_type": "stream",
     "name": "stdout",
     "text": [
      "Width: 4\n",
      "Height: 5\n",
      "Width: 1\n",
      "Height: 1\n",
      "Width: 4\n",
      "Height: 1\n",
      "The rectangle has the following measurements:\n",
      "Width is 4\n",
      "Height is 5\n",
      "Area is 20\n",
      "Perimeter is 18\n"
     ]
    }
   ]
  },
  {
   "cell_type": "code",
   "source": [
    "print(\"Width is\", r._width)\n",
    "print(\"Height is\", r._height)\n",
    "print(\"Area is\", r.area())\n",
    "print(\"Perimeter is\", r.perimeter())\n",
    "r.__dict__.keys()"
   ],
   "metadata": {
    "colab": {
     "base_uri": "https://localhost:8080/"
    },
    "id": "RpcSVieaL_nb",
    "outputId": "d908190c-8bcb-4567-d3df-86d2490b7569"
   },
   "execution_count": null,
   "outputs": [
    {
     "output_type": "stream",
     "name": "stdout",
     "text": [
      "Width is 4\n",
      "Height is 5\n",
      "Area is 20\n",
      "Perimeter is 18\n"
     ]
    },
    {
     "output_type": "execute_result",
     "data": {
      "text/plain": [
       "dict_keys(['_width', '_height', '_Rectangle__width', '_Rectangle__height'])"
      ]
     },
     "metadata": {},
     "execution_count": 16
    }
   ]
  },
  {
   "cell_type": "code",
   "source": [
    "print(\"__Width is\", r.__width)\n",
    "print(\"__Height is\", r.__height)\n",
    "print(\"__Area is\", r.__area())\n",
    "print(\"__Perimeter is\", r.__perimeter())"
   ],
   "metadata": {
    "id": "SBUQ1WRTc1Nz",
    "colab": {
     "base_uri": "https://localhost:8080/",
     "height": 223
    },
    "outputId": "4c8526b5-a294-4921-ab76-11e76cc6a23c"
   },
   "execution_count": null,
   "outputs": [
    {
     "output_type": "error",
     "ename": "AttributeError",
     "evalue": "ignored",
     "traceback": [
      "\u001B[0;31m---------------------------------------------------------------------------\u001B[0m",
      "\u001B[0;31mAttributeError\u001B[0m                            Traceback (most recent call last)",
      "\u001B[0;32m<ipython-input-18-f15bbba63c4e>\u001B[0m in \u001B[0;36m<cell line: 1>\u001B[0;34m()\u001B[0m\n\u001B[0;32m----> 1\u001B[0;31m \u001B[0mprint\u001B[0m\u001B[0;34m(\u001B[0m\u001B[0;34m\"__Width is\"\u001B[0m\u001B[0;34m,\u001B[0m \u001B[0mr\u001B[0m\u001B[0;34m.\u001B[0m\u001B[0m__width\u001B[0m\u001B[0;34m)\u001B[0m\u001B[0;34m\u001B[0m\u001B[0;34m\u001B[0m\u001B[0m\n\u001B[0m\u001B[1;32m      2\u001B[0m \u001B[0mprint\u001B[0m\u001B[0;34m(\u001B[0m\u001B[0;34m\"__Height is\"\u001B[0m\u001B[0;34m,\u001B[0m \u001B[0mr\u001B[0m\u001B[0;34m.\u001B[0m\u001B[0m__height\u001B[0m\u001B[0;34m)\u001B[0m\u001B[0;34m\u001B[0m\u001B[0;34m\u001B[0m\u001B[0m\n\u001B[1;32m      3\u001B[0m \u001B[0mprint\u001B[0m\u001B[0;34m(\u001B[0m\u001B[0;34m\"__Area is\"\u001B[0m\u001B[0;34m,\u001B[0m \u001B[0mr\u001B[0m\u001B[0;34m.\u001B[0m\u001B[0m__area\u001B[0m\u001B[0;34m(\u001B[0m\u001B[0;34m)\u001B[0m\u001B[0;34m)\u001B[0m\u001B[0;34m\u001B[0m\u001B[0;34m\u001B[0m\u001B[0m\n\u001B[1;32m      4\u001B[0m \u001B[0mprint\u001B[0m\u001B[0;34m(\u001B[0m\u001B[0;34m\"__Perimeter is\"\u001B[0m\u001B[0;34m,\u001B[0m \u001B[0mr\u001B[0m\u001B[0;34m.\u001B[0m\u001B[0m__perimeter\u001B[0m\u001B[0;34m(\u001B[0m\u001B[0;34m)\u001B[0m\u001B[0;34m)\u001B[0m\u001B[0;34m\u001B[0m\u001B[0;34m\u001B[0m\u001B[0m\n",
      "\u001B[0;31mAttributeError\u001B[0m: 'Rectangle' object has no attribute '__width'"
     ]
    }
   ]
  },
  {
   "cell_type": "markdown",
   "source": [
    "## LGstudent Class"
   ],
   "metadata": {
    "id": "qHeiIk6Pdh9y"
   }
  },
  {
   "cell_type": "code",
   "source": [
    "class LGstudent:\n",
    "  def __init__(self, name=\"\", midterm=0, final=0):\n",
    "    self._name = name\n",
    "    self._midterm = midterm\n",
    "    self._final = final\n",
    "\n",
    "  def setName(self, name):\n",
    "    self._name = name\n",
    "\n",
    "  def setMidterm(self, midterm):\n",
    "    self._midterm = midterm\n",
    "\n",
    "  def setFinal(self, final):\n",
    "    self._final = final\n",
    "\n",
    "  def calcSemGrade(self):\n",
    "    grade = (self.__midterm + self.__final) / 2\n",
    "    grade = round(grade)\n",
    "    if grade >= 90: return \"A\"\n",
    "    elif grade >= 80: return \"B\"\n",
    "    elif grade >= 70: return \"C\"\n",
    "    elif grade >= 60: return \"D\"\n",
    "    else: return \"F\"\n",
    "\n",
    "  def __str__(self):\n",
    "    return self._name + \"\\t\" + self.calcSemGrade()"
   ],
   "metadata": {
    "id": "xMQLNosZeBz3",
    "ExecuteTime": {
     "start_time": "2023-04-17T10:01:04.576746Z",
     "end_time": "2023-04-17T10:01:04.592367Z"
    }
   },
   "execution_count": 4,
   "outputs": []
  },
  {
   "cell_type": "code",
   "source": [
    "def main():\n",
    "  ## Calculate and display a student's semester letter grade.\n",
    "  name = input(\"Enter student's name: \")\n",
    "  midterm = float(input(\"Enter grade on midterm exam: \"))\n",
    "  final = float(input(\"Enter grade on final exam: \"))\n",
    "  # Create an instance of an LGstudent object.\n",
    "  st = LGstudent(name, midterm, final)\n",
    "  print(\"\\nNAME\\tGRADE\")\n",
    "  # Display student's name and semester letter grade.\n",
    "  print(st)\n",
    "\n",
    "main()"
   ],
   "metadata": {
    "colab": {
     "base_uri": "https://localhost:8080/"
    },
    "id": "9SdhMfnjIOXN",
    "outputId": "f7947036-fe13-40c7-d3bb-0d7ff72dee90"
   },
   "execution_count": null,
   "outputs": [
    {
     "output_type": "stream",
     "name": "stdout",
     "text": [
      "Enter student's name: Kim\n",
      "Enter grade on midterm exam: 87\n",
      "Enter grade on final exam: 92\n",
      "\n",
      "NAME\tGRADE\n",
      "Kim\tA\n"
     ]
    }
   ]
  },
  {
   "cell_type": "markdown",
   "source": [
    "## Lists of Objects"
   ],
   "metadata": {
    "id": "jez5PEIbfiMt"
   }
  },
  {
   "cell_type": "code",
   "source": [
    "def main():\n",
    "  ## Calculate and display students' semester letter grades.\n",
    "  listOfStudents = [] # To holds objects each for a student\n",
    "  carryOn = 'Y'\n",
    "  while carryOn == 'Y': # Repeat until user says 'N'\n",
    "    st = LGstudent()\n",
    "    # Obtain student's name and grades.\n",
    "    name = input(\"Enter student's name: \")\n",
    "    midterm = float(input(\"Enter student's grade on midterm exam: \"))\n",
    "    final = float(input(\"Enter student's grade on final exam: \"))\n",
    "    # Create an instance of an LGstudent object.\n",
    "    st = LGstudent(name, midterm, final)\n",
    "    listOfStudents.append(st)\n",
    "    # Insert object into list.\n",
    "    carryOn = input(\"Do you want to continue (Y/N)? \")\n",
    "    carryOn = carryOn.upper()\n",
    "  print(\"\\nNAME\\tGRADE\")\n",
    "  # Display students, names and semester letter grades.\n",
    "  for pupil in listOfStudents:\n",
    "    print(pupil)\n",
    "\n",
    "main()"
   ],
   "metadata": {
    "colab": {
     "base_uri": "https://localhost:8080/"
    },
    "id": "YhrsG-RVHpfI",
    "outputId": "6909c020-a798-44bd-b678-830362060893"
   },
   "execution_count": null,
   "outputs": [
    {
     "output_type": "stream",
     "name": "stdout",
     "text": [
      "Enter student's name: Kim\n",
      "Enter student's grade on midterm exam: 70\n",
      "Enter student's grade on final exam: 60\n",
      "Do you want to continue (Y/N)? Y\n",
      "Enter student's name: Lee\n",
      "Enter student's grade on midterm exam: 50\n",
      "Enter student's grade on final exam: 30\n",
      "Do you want to continue (Y/N)? N\n",
      "\n",
      "NAME\tGRADE\n",
      "Kim\tD\n",
      "Lee\tF\n"
     ]
    }
   ]
  },
  {
   "cell_type": "markdown",
   "source": [
    "## Inheritance"
   ],
   "metadata": {
    "id": "hslGpsG-gll4"
   }
  },
  {
   "cell_type": "code",
   "source": [
    "class Student: # Superclass\n",
    "  def __init__(self, name=\"\", midterm=0, final=0):\n",
    "    self.__name = name\n",
    "    self.__midterm = midterm\n",
    "    self.__final = final\n",
    "\n",
    "  def setName(self, name):\n",
    "    self.__name = name\n",
    "\n",
    "  def setMidterm(self, midterm):\n",
    "    self.__midterm = midterm\n",
    "\n",
    "  def setFinal(self, final):\n",
    "    self.__final = final\n",
    "\n",
    "  def getName(self):\n",
    "    return self.__name\n",
    "\n",
    "  def calcSemGrade(self):\n",
    "    pass\n",
    "\n",
    "  def __str__(self):\n",
    "    return self.__name + \"\\t\" + self.calcSemGrade()\n",
    "\n",
    "s = Student()\n",
    "s.__dict__.keys()\n",
    "print(s.calcSemGrade())"
   ],
   "metadata": {
    "id": "e2egenn1ISmS",
    "colab": {
     "base_uri": "https://localhost:8080/"
    },
    "outputId": "826cbc40-171e-42fe-9911-17895ecb9954"
   },
   "execution_count": null,
   "outputs": [
    {
     "output_type": "stream",
     "name": "stdout",
     "text": [
      "None\n"
     ]
    }
   ]
  },
  {
   "cell_type": "code",
   "source": [
    "# letter-grade students\n",
    "class LGstudent(Student): # Subclass of Student\n",
    "  def calcSemGrade(self): # override method 오타주의\n",
    "    average = round((self._midterm + self._final) / 2)\n",
    "    if average >= 90: return \"A\"\n",
    "    elif average >= 80: return \"B\"\n",
    "    elif average >= 70: return \"C\"\n",
    "    elif average >= 60: return \"D\"\n",
    "    else: return \"F\"\n",
    "\n",
    "# pass-fail students\n",
    "class PFstudent(Student): # Subclass of Student\n",
    "  def calcSemGrade(self):\n",
    "    average = round((self._midterm + self._final) / 2)\n",
    "    if average >= 60: return \"Pass\"\n",
    "    else: return \"Fail\"\n",
    "\n",
    "\n",
    "lg = LGstudent()\n",
    "pf = PFstudent()\n",
    "\n",
    "print(lg.__dict__.keys())\n",
    "print(pf.__dict__.keys())\n",
    "print(lg.calcSemGrade())\n",
    "print(pf.calcSemGrade())"
   ],
   "metadata": {
    "colab": {
     "base_uri": "https://localhost:8080/"
    },
    "id": "biRIzRNoMd44",
    "outputId": "1fb9f017-1e2d-4ba5-fbf5-42aa123529d4"
   },
   "execution_count": null,
   "outputs": [
    {
     "output_type": "stream",
     "name": "stdout",
     "text": [
      "dict_keys(['_Student__name', '_midterm', '_final'])\n",
      "dict_keys(['_Student__name', '_midterm', '_final'])\n",
      "F\n",
      "Fail\n"
     ]
    }
   ]
  },
  {
   "cell_type": "code",
   "source": [
    "def main():\n",
    "  # students and grades\n",
    "  listOfStudents = obtainListOfStudents()\n",
    "  displayResults(listOfStudents)\n",
    "\n",
    "def obtainListOfStudents():\n",
    "  listOfStudents = []\n",
    "  carryOn = 'Y'\n",
    "  while carryOn == 'Y':\n",
    "    name = input(\"Enter student's name: \")\n",
    "    midterm = float(input(\"Enter grade on midterm: \"))\n",
    "    final = float(input(\"Enter grade on final: \"))\n",
    "    category = input(\"Enter category (LG or PF): \")\n",
    "    if category.upper() == \"LG\":\n",
    "      st = LGstudent(name, midterm, final)\n",
    "    else:\n",
    "      st = PFstudent(name, midterm, final)\n",
    "    listOfStudents.append(st)\n",
    "    carryOn = input(\"Do you want to continue (Y/N)? \")\n",
    "    carryOn = carryOn.upper()\n",
    "  return listOfStudents    \n",
    "\n",
    "def displayResults(listOfStudents):\n",
    "  print(\"\\nNAME\\tGRADE\")\n",
    "  # Sort students by name.\n",
    "  listOfStudents.sort(key = lambda x: x.getName())\n",
    "  for pupil in listOfStudents:\n",
    "    print(pupil)\n",
    "\n",
    "\n",
    "main()"
   ],
   "metadata": {
    "colab": {
     "base_uri": "https://localhost:8080/"
    },
    "id": "GtR4wC0NMgpy",
    "outputId": "ec6d409b-27f0-4a68-e93d-0d2e7d6dab90"
   },
   "execution_count": null,
   "outputs": [
    {
     "output_type": "stream",
     "name": "stdout",
     "text": [
      "Enter student's name: Kim\n",
      "Enter grade on midterm: 87\n",
      "Enter grade on final: 92\n",
      "Enter category (LG or PF): LG\n",
      "Do you want to continue (Y/N)? Y\n",
      "Enter student's name: Lee\n",
      "Enter grade on midterm: 92\n",
      "Enter grade on final: 70\n",
      "Enter category (LG or PF): PF\n",
      "Do you want to continue (Y/N)? N\n",
      "\n",
      "NAME\tGRADE\n",
      "Kim\tA\n",
      "Lee\tPass\n"
     ]
    }
   ]
  },
  {
   "cell_type": "code",
   "source": [
    "def displayResults(listOfStudents):\n",
    "  print(\"\\nNAME\\tGRADE\")\n",
    "  numberOfLGstudents = 0\n",
    "  listOfStudents.sort(key = lambda x: x.getName())\n",
    "  for pupil in listOfStudents:\n",
    "    print(pupil)\n",
    "    # Keep track of number of letter-grade students.\n",
    "    if isinstance(pupil, LGstudent):\n",
    "      numberOfLGstudents += 1\n",
    "  # Display number of students in each category.\n",
    "  print(\"Number of letter-grade students:\", numberOfLGstudents)\n",
    "  print(\"Number of pass-fail students:\", len(listOfStudents) - numberOfLGstudents)\n",
    "\n",
    "main()"
   ],
   "metadata": {
    "colab": {
     "base_uri": "https://localhost:8080/"
    },
    "id": "q14HlQIdHcHt",
    "outputId": "cae82a5c-8199-4b7c-b951-b6076b4fd9c7"
   },
   "execution_count": null,
   "outputs": [
    {
     "output_type": "stream",
     "name": "stdout",
     "text": [
      "Enter student's name: Kim\n",
      "Enter grade on midterm: 87\n",
      "Enter grade on final: 92\n",
      "Enter category (LG or PF): LG\n",
      "Do you want to continue (Y/N)? Y\n",
      "Enter student's name: Lee\n",
      "Enter grade on midterm: 92\n",
      "Enter grade on final: 70\n",
      "Enter category (LG or PF): PF\n",
      "Do you want to continue (Y/N)? N\n",
      "\n",
      "NAME\tGRADE\n",
      "Kim\tA\n",
      "Lee\tPass\n",
      "Number of letter-grade students: 1\n",
      "Number of pass-fail students: 1\n"
     ]
    }
   ]
  },
  {
   "cell_type": "markdown",
   "source": [
    "## Adding New Instance Variables to a Subclass"
   ],
   "metadata": {
    "id": "McMsVb4Iq40K"
   }
  },
  {
   "cell_type": "code",
   "source": [
    "class PFstudent(Student):\n",
    "  # A new Boolean parameter fullTime is added\n",
    "  def __init__(self, name=\"\", midterm=0, final=0, fullTime=True):\n",
    "    super().__init__(name, midterm, final)\n",
    "    self._fullTime = fullTime\n",
    "\n",
    "  def setFullTime(self, fullTime):\n",
    "    self._fullTime = fullTime\n",
    "\n",
    "  def getFullTime(self):\n",
    "    return self._fullTime\n",
    "\n",
    "  def calcSemGrade(self):\n",
    "    average = round((self._midterm + self._final) / 2)\n",
    "    if average >= 60: return \"Pass\"\n",
    "    else: return \"Fail\"\n",
    "\n",
    "  def __str__(self):\n",
    "    if self._fullTime:\n",
    "      status = \"Full-time student\"\n",
    "    else:\n",
    "      status = \"Part-time student\"\n",
    "    return (self._name + \"\\t\" + self.calcSemGrade() + \"\\t\" + status)\n"
   ],
   "metadata": {
    "id": "enDvASizGj4y"
   },
   "execution_count": null,
   "outputs": []
  },
  {
   "cell_type": "code",
   "source": [
    "def main():\n",
    "  ## Calculate and display a student's semester letter grade\n",
    "  ## and status. Obtain student's name, grade on midterm\n",
    "  ## exam, and grade on final.\n",
    "  name = input(\"Enter student's name: \")\n",
    "  midterm = float(input(\"Enter grade on midterm: \"))\n",
    "  final = float(input(\"Enter grade on final: \"))\n",
    "  category = input(\"Enter category (LG or PF): \")\n",
    "  if category.upper() == \"LG\":\n",
    "    st = LGstudent(name, midterm, final)\n",
    "  else:\n",
    "    question = input(\"Is \" + name + \" a full time student (Y/N)? \")\n",
    "    if question.upper() == 'Y': fullTime = True\n",
    "    else: fullTime = False\n",
    "\n",
    "    st = PFstudent(name, midterm, final, fullTime)\n",
    "    # Display student's name, semester letter grade, and status.\n",
    "  print(\"\\nNAME\\tGRADE\\tSTATUS\")\n",
    "  print(st)\n",
    "\n",
    "main()"
   ],
   "metadata": {
    "colab": {
     "base_uri": "https://localhost:8080/"
    },
    "id": "YWJHyp8PGIXS",
    "outputId": "a291d307-f299-498c-d770-9a44a7b451ff"
   },
   "execution_count": null,
   "outputs": [
    {
     "output_type": "stream",
     "name": "stdout",
     "text": [
      "Enter student's name: Park\n",
      "Enter grade on midterm: 60\n",
      "Enter grade on final: 70\n",
      "Enter category (LG or PF): PF\n",
      "Is Park a full time student (Y/N)? Y\n",
      "\n",
      "NAME\tGRADE\tSTATUS\n",
      "Park\tPass\tFull-time student\n"
     ]
    }
   ]
  },
  {
   "cell_type": "markdown",
   "source": [
    "## Overriding a Method"
   ],
   "metadata": {
    "id": "trpfqkpuq8VX"
   }
  },
  {
   "cell_type": "code",
   "source": [
    "class LGstudent:\n",
    "  def __init__(self, name=\"\", midterm=0, final=0):\n",
    "    self._name = name\n",
    "    self._midterm = midterm\n",
    "    self._final = final\n",
    "\n",
    "  def setName(self, name):\n",
    "    self._name = name\n",
    "\n",
    "  def setMidterm(self, midterm):\n",
    "    self._midterm = midterm\n",
    "\n",
    "  def setFinal(self, final):\n",
    "    self._final = final\n",
    "\n",
    "  def getName(self):\n",
    "    return self._name\n",
    "\n",
    "  def calcSemGrade(self):\n",
    "    average = round((self._midterm + self._final) / 2)\n",
    "    if average >= 90: return \"A\"\n",
    "    elif average >= 80: return \"B\"\n",
    "    elif average >= 70: return \"C\"\n",
    "    elif average >= 60: return \"D\"\n",
    "    else: return \"F\"\n",
    "\n",
    "  def __str__(self):\n",
    "    return self._name + \"\\t\" + self.calcSemGrade()\n",
    "\n",
    "\n",
    "class PFstudent(LGstudent):\n",
    "  def calcSemGrade(self):\n",
    "    average = round((self._midterm + self._final) / 2)\n",
    "    if average >= 60: return \"Pass\"\n",
    "    else: return \"Fail\"\n"
   ],
   "metadata": {
    "id": "jb13r8SPrnHQ"
   },
   "execution_count": null,
   "outputs": []
  },
  {
   "cell_type": "code",
   "source": [
    "def main():\n",
    "  # Students and grades\n",
    "  listOfStudents = obtainListOfStudents()\n",
    "  displayResults(listOfStudents)\n",
    "\n",
    "def obtainListOfStudents():\n",
    "  listOfStudents = []\n",
    "  carryOn = 'Y'\n",
    "  while carryOn == 'Y':\n",
    "    name = input(\"Enter student's name: \")\n",
    "    midterm = float(input(\"Enter grade on midterm: \"))\n",
    "    final = float(input(\"Enter grade on final: \"))\n",
    "    category = input(\"Enter category (LG or PF): \")\n",
    "    if category.upper() == \"LG\":\n",
    "      st = LGstudent(name, midterm, final)\n",
    "    else:\n",
    "      st = PFstudent(name, midterm, final)\n",
    "    listOfStudents.append(st)\n",
    "    carryOn = input(\"Do you want to continue (Y/N)? \")\n",
    "    carryOn = carryOn.upper()\n",
    "  return listOfStudents\n",
    "\n",
    "def displayResults(listOfStudents):\n",
    "  print(\"\\nNAME\\tGRADE\")\n",
    "  listOfStudents.sort(key = lambda x: x.getName())\n",
    "  for pupil in listOfStudents:\n",
    "    print(pupil)\n",
    "\n",
    "\n",
    "main()\n"
   ],
   "metadata": {
    "colab": {
     "base_uri": "https://localhost:8080/"
    },
    "id": "Ldsc9TuDrA_B",
    "outputId": "87fa19fc-1974-4630-9db3-87219f7e0025"
   },
   "execution_count": null,
   "outputs": [
    {
     "output_type": "stream",
     "name": "stdout",
     "text": [
      "Enter student's name: Kim\n",
      "Enter grade on midterm: 80\n",
      "Enter grade on final: 70\n",
      "Enter category (LG or PF): LG\n",
      "Do you want to continue (Y/N)? Y\n",
      "Enter student's name: Lee\n",
      "Enter grade on midterm: 50\n",
      "Enter grade on final: 40\n",
      "Enter category (LG or PF): PF\n",
      "Do you want to continue (Y/N)? N\n",
      "\n",
      "NAME\tGRADE\n",
      "Kim\tC\n",
      "Lee\tFail\n"
     ]
    }
   ]
  },
  {
   "cell_type": "markdown",
   "source": [
    "## Decorators  for Class"
   ],
   "metadata": {
    "id": "hto5wpofviTw"
   }
  },
  {
   "cell_type": "code",
   "source": [
    "# Immutable Object\n",
    "class PNUStudent():\n",
    "  def __init__(self, name, major):\n",
    "    self._name = name\n",
    "    self._major = major\n",
    "\n",
    "  @staticmethod\n",
    "  def university():\n",
    "    return \"Pusan National University\"\n",
    "  \n",
    "  @property\n",
    "  def name(self):\n",
    "    return self._name\n",
    "  \n",
    "  # Validating Input Values\n",
    "  # @name.setter\n",
    "  # def name(self, name):\n",
    "  #   self._name = name.upper();\n",
    "  \n",
    "  @property\n",
    "  def major(self):\n",
    "    return self._major\n",
    "  \n",
    "  # Validating Input Values\n",
    "  # @major.setter\n",
    "  # def major(self, major):\n",
    "  #   self._major = major.upper()\n",
    "  \n",
    "  def __str__(self):\n",
    "    return f\"name: {self._name}, major: {self._major}\"\n",
    "\n",
    "\n",
    "print(PNUStudent.university())\n",
    "\n",
    "ps = PNUStudent('Kim', 'CS')\n",
    "print(ps.university())\n",
    "print(ps.__dict__.keys())\n",
    "print(ps.name)\n",
    "print(ps.major)\n",
    "\n",
    "# the leading underscore (_) in names\n",
    "# non-public attributes and shouldn’t be accessed using dot notation\n",
    "ps._name = 'hello'\n",
    "ps._major = 'math'\n",
    "print(str(ps))\n",
    "\n",
    "ps.name = 'hello'\n",
    "ps.major = 'math'\n"
   ],
   "metadata": {
    "colab": {
     "base_uri": "https://localhost:8080/",
     "height": 348
    },
    "id": "uCVvfxGQvkr_",
    "outputId": "7a7142c4-5049-4530-d471-672460451686"
   },
   "execution_count": null,
   "outputs": [
    {
     "output_type": "stream",
     "name": "stdout",
     "text": [
      "Pusan National University\n",
      "Pusan National University\n",
      "dict_keys(['_name', '_major'])\n",
      "Kim\n",
      "CS\n",
      "name: hello, major: math\n"
     ]
    },
    {
     "output_type": "error",
     "ename": "AttributeError",
     "evalue": "ignored",
     "traceback": [
      "\u001B[0;31m---------------------------------------------------------------------------\u001B[0m",
      "\u001B[0;31mAttributeError\u001B[0m                            Traceback (most recent call last)",
      "\u001B[0;32m<ipython-input-94-6ec7584ff208>\u001B[0m in \u001B[0;36m<cell line: 47>\u001B[0;34m()\u001B[0m\n\u001B[1;32m     45\u001B[0m \u001B[0mprint\u001B[0m\u001B[0;34m(\u001B[0m\u001B[0mstr\u001B[0m\u001B[0;34m(\u001B[0m\u001B[0mps\u001B[0m\u001B[0;34m)\u001B[0m\u001B[0;34m)\u001B[0m\u001B[0;34m\u001B[0m\u001B[0;34m\u001B[0m\u001B[0m\n\u001B[1;32m     46\u001B[0m \u001B[0;34m\u001B[0m\u001B[0m\n\u001B[0;32m---> 47\u001B[0;31m \u001B[0mps\u001B[0m\u001B[0;34m.\u001B[0m\u001B[0mname\u001B[0m \u001B[0;34m=\u001B[0m \u001B[0;34m'hello'\u001B[0m\u001B[0;34m\u001B[0m\u001B[0;34m\u001B[0m\u001B[0m\n\u001B[0m\u001B[1;32m     48\u001B[0m \u001B[0mps\u001B[0m\u001B[0;34m.\u001B[0m\u001B[0mmajor\u001B[0m \u001B[0;34m=\u001B[0m \u001B[0;34m'math'\u001B[0m\u001B[0;34m\u001B[0m\u001B[0;34m\u001B[0m\u001B[0m\n\u001B[1;32m     49\u001B[0m \u001B[0;34m\u001B[0m\u001B[0m\n",
      "\u001B[0;31mAttributeError\u001B[0m: can't set attribute"
     ]
    }
   ]
  },
  {
   "cell_type": "code",
   "source": [
    "# some student\n",
    "class PNUStudent():\n",
    "  def __init__(self, name, major):\n",
    "    self.__name = name\n",
    "    self.__major = major\n",
    "\n",
    "  def __str__(self):\n",
    "    return f\"name: {self.__name}, major: {self.__major}\"\n",
    "\n",
    "ps = PNUStudent('Kim', 'CS')\n",
    "print(ps.__dict__.keys())\n",
    "#print(ps.__name)\n",
    "#print(ps.__major)\n",
    "\n",
    "ps.__name = 'hello'  # ??\n",
    "ps.__major = 'math'  # ??\n",
    "\n",
    "print(ps.__dict__.keys())\n",
    "print(str(ps))\n"
   ],
   "metadata": {
    "colab": {
     "base_uri": "https://localhost:8080/"
    },
    "id": "_2GcAV3a2oMR",
    "outputId": "0b34c5a8-df72-4c1a-ab6a-a4abf6bc0fa4"
   },
   "execution_count": null,
   "outputs": [
    {
     "output_type": "stream",
     "name": "stdout",
     "text": [
      "dict_keys(['_PNUStudent__name', '_PNUStudent__major'])\n",
      "dict_keys(['_PNUStudent__name', '_PNUStudent__major', '__name', '__major'])\n",
      "name: Kim, major: CS\n"
     ]
    }
   ]
  },
  {
   "cell_type": "markdown",
   "source": [
    "# Lab12"
   ],
   "metadata": {
    "id": "Q8GmLMjqs3Ek"
   }
  },
  {
   "cell_type": "markdown",
   "source": [
    "## 1. Create a class named \"ShoppingCart\" with the following methods and attributes:\n",
    "\n",
    "* add_item(item_name, price, quantity)\n",
    "* remove_item(item_name, quantity)\n",
    "* get_total_price()\n",
    "* items (dictionary, keys are item names and values are item price and quantities)"
   ],
   "metadata": {
    "id": "UlT2GU_N6Tl0"
   }
  },
  {
   "cell_type": "code",
   "source": [
    "class ShoppingCart:\n",
    "    def __init__(self):\n",
    "        self.items = {}\n",
    "\n",
    "    def add_item(self, item_name, price, quantity):\n",
    "        if item_name in self.items:\n",
    "            self.items[item_name][0] += price * quantity\n",
    "            self.items[item_name][1] += quantity\n",
    "        else:\n",
    "            self.items[item_name] = [price * quantity, quantity]\n",
    "\n",
    "    def remove_item(self, item_name, quantity):\n",
    "        if item_name in self.items:\n",
    "            if quantity >= self.items[item_name][1]:\n",
    "                del self.items[item_name]\n",
    "            else:\n",
    "                self.items[item_name][0] -= (self.items[item_name][0] / self.items[item_name][1]) * quantity\n",
    "                self.items[item_name][1] -= quantity\n",
    "\n",
    "    def get_total_price(self):\n",
    "        total_price = 0\n",
    "        for item in self.items.values():\n",
    "            total_price += item[0]\n",
    "        return total_price\n",
    "\n",
    "def main():\n",
    "  cart = ShoppingCart()\n",
    "  cart.add_item(\"Apple\", 1.9, 5)\n",
    "  cart.add_item(\"Banana\", 0.9, 3)\n",
    "  cart.add_item(\"Orange\", 2.9, 2)\n",
    "  cart.remove_item(\"Apple\", 2)\n",
    "  cart.remove_item(\"Orange\", 2)\n",
    "\n",
    "  print('{:.2f}'.format(cart.get_total_price()))\n",
    "\n",
    "\n",
    "main()"
   ],
   "metadata": {
    "id": "iqIe1ijPrx0z",
    "ExecuteTime": {
     "start_time": "2023-04-17T11:35:53.818785Z",
     "end_time": "2023-04-17T11:35:53.825881Z"
    }
   },
   "execution_count": 5,
   "outputs": [
    {
     "name": "stdout",
     "output_type": "stream",
     "text": [
      "8.40\n"
     ]
    }
   ]
  },
  {
   "cell_type": "markdown",
   "source": [
    "## 2. Create a class named \"TimeSeriesData\" with the following methods and attributes:\n",
    "\n",
    "* get_max_value()\n",
    "* get_min_value()\n",
    "* get_average_value()\n",
    "* data (list of tuples, each tuple contains a timestamp and a value)"
   ],
   "metadata": {
    "id": "mKgtxNrn8m_a"
   }
  },
  {
   "cell_type": "code",
   "source": [
    "class TimeSeriesData():\n",
    "    def __init__(self, data):\n",
    "        self.data = data\n",
    "\n",
    "    def get_max_value(self):\n",
    "        return max([x[1] for x in self.data])\n",
    "\n",
    "    def get_min_value(self):\n",
    "        return min([x[1] for x in self.data])\n",
    "\n",
    "    def get_average_value(self):\n",
    "        return sum([x[1] for x in self.data]) / len(self.data)\n",
    "\n",
    "def main():\n",
    "  data = [(\"2023-01-01\", 1.0), (\"2023-01-02\", 2.0), (\"2023-01-03\", 3.0), (\"2023-01-04\", 2.5)]\n",
    "\n",
    "  time_series = TimeSeriesData(data)\n",
    "  print('{:.2f}'.format(time_series.get_max_value()))\n",
    "  print('{:.2f}'.format(time_series.get_min_value())) \n",
    "  print('{:.2f}'.format(time_series.get_average_value()))\n",
    "\n",
    "main()"
   ],
   "metadata": {
    "id": "ioqrxwWI8nbq",
    "ExecuteTime": {
     "start_time": "2023-04-17T11:36:00.801849Z",
     "end_time": "2023-04-17T11:36:00.817497Z"
    }
   },
   "execution_count": 6,
   "outputs": [
    {
     "name": "stdout",
     "output_type": "stream",
     "text": [
      "3.00\n",
      "1.00\n",
      "2.12\n"
     ]
    }
   ]
  },
  {
   "cell_type": "markdown",
   "source": [
    "## 3. Create a class named \"SimpleLinearRegression\" with the following methods and attributes:\n",
    "\n",
    "* get_slope()\n",
    "* get_intercept()\n",
    "* predict(x)\n",
    "* x (list of floats)\n",
    "* y (list of floats)"
   ],
   "metadata": {
    "id": "o205__Y09RrY"
   }
  },
  {
   "cell_type": "code",
   "source": [
    "# First, you can use the matplotlib, numpy, and sklearn modules\n",
    "import matplotlib.pyplot as plt\n",
    "import numpy as np\n",
    "from sklearn.linear_model import LinearRegression\n",
    "\n",
    "# matplotlib\n",
    "class SimpleLinearRegression():  # ax + b = 0\n",
    "    def __init__(self, x, y):\n",
    "        self.x = x\n",
    "        self.y = y\n",
    "        self.slope = self.get_slope()\n",
    "        self.intercept = self.get_intercept()\n",
    "\n",
    "    def get_slope(self):\n",
    "        n = len(self.x)\n",
    "        sum_xy = sum([self.x[i] * self.y[i] for i in range(n)])\n",
    "        sum_x = sum(self.x)\n",
    "        sum_y = sum(self.y)\n",
    "        sum_x2 = sum([x ** 2 for x in self.x])\n",
    "        mean_x = sum_x / n\n",
    "        mean_y = sum_y / n\n",
    "        numerator = sum_xy - n * mean_x * mean_y\n",
    "        denominator = sum_x2 - n * mean_x ** 2\n",
    "        return numerator / denominator\n",
    "\n",
    "    def get_intercept(self):\n",
    "        n = len(self.x)\n",
    "        mean_x = sum(self.x) / n\n",
    "        mean_y = sum(self.y) / n\n",
    "        return mean_y - self.slope * mean_x\n",
    "\n",
    "    def predict(self, x_val):\n",
    "        return self.slope * x_val + self.intercept\n",
    "\n",
    "    def show_plot(self):\n",
    "        plt.scatter(self.x, self.y, color='black')\n",
    "        plt.plot(self.x, [self.predict(x) for x in self.x], color='blue')\n",
    "        plt.xlabel('X')\n",
    "        plt.ylabel('Y')\n",
    "        plt.show()\n",
    "\n",
    "# matplotlib / numpy / sklearn\n",
    "class SimpleLinearRegression2():\n",
    "  def __init__(self, x, y):\n",
    "    self.x = np.array(x)\n",
    "    self.y = np.array(y)\n",
    "    self.slope = None\n",
    "    self.intercept = None\n",
    "    self.model = None\n",
    "\n",
    "  def get_slope(self):\n",
    "    if self.slope is None:\n",
    "      n = len(self.x)\n",
    "      numerator = np.sum(self.x * self.y) - n * np.mean(self.x) * np.mean(self.y)\n",
    "      denominator = np.sum(self.x ** 2) - n * np.mean(self.x) ** 2\n",
    "      self.slope = numerator / denominator\n",
    "    return self.slope\n",
    "\n",
    "  def get_intercept(self):\n",
    "    if self.intercept is None:\n",
    "      self.intercept = np.mean(self.y) - self.get_slope() * np.mean(self.x)\n",
    "    return self.intercept\n",
    "\n",
    "  def predict(self, x_new):\n",
    "    if self.model is None:\n",
    "      self.model = LinearRegression().fit(self.x.reshape(-1, 1), self.y.reshape(-1, 1))\n",
    "    return self.model.predict(np.array(x_new).reshape(-1, 1))[0][0]\n",
    "\n",
    "  def show_plot(self):\n",
    "    plt.scatter(self.x, self.y)\n",
    "    plt.plot(self.x, self.get_slope() * self.x + self.get_intercept(), color='red')\n",
    "    plt.show()\n",
    "\n",
    "\n",
    "\n",
    "# secondly, you can use the least-squares estimation method, 최소 제곱 추정법\n",
    "# you can find the best-fitting line by calculating \n",
    "# the slope (a) and intercept (b) using these formulas: a 기울기 b 절편\n",
    "\n",
    "# Slope (a):\n",
    "# a = (Σ(x*y) - n * mean(x) * mean(y)) / (Σ(x^2) - n * mean(x)^2) n 데이터 쌍의 수\n",
    "\n",
    "# Intercept (b):\n",
    "# b = mean(y) - a * mean(x)\n",
    "\n",
    "\n",
    "def main():\n",
    "  x = [1, 2, 3, 4, 5, 6, 7, 8]\n",
    "  y = [2, 4, 5, 4, 5, 5, 8, 6]\n",
    "\n",
    "  regression = SimpleLinearRegression(x, y)\n",
    "  print('{:.2f}'.format(regression.get_slope()))          # a\n",
    "  print('{:.2f}'.format(regression.get_intercept()))      # b\n",
    "  print('{:.2f}'.format(regression.predict(6)))           \n",
    "\n",
    "  regression.show_plot()\n",
    "\n",
    "  regression2 = SimpleLinearRegression2(x, y)\n",
    "  print('{:.2f}'.format(regression2.get_slope()))          # a\n",
    "  print('{:.2f}'.format(regression2.get_intercept()))      # b\n",
    "  print('{:.2f}'.format(regression2.predict(6)))\n",
    "\n",
    "  regression2.show_plot()\n",
    "\n",
    "main()"
   ],
   "metadata": {
    "id": "_GMyehYz9Qv-",
    "ExecuteTime": {
     "start_time": "2023-04-17T11:53:01.304656Z",
     "end_time": "2023-04-17T11:53:01.590259Z"
    }
   },
   "execution_count": 13,
   "outputs": [
    {
     "name": "stdout",
     "output_type": "stream",
     "text": [
      "0.58\n",
      "2.25\n",
      "5.75\n"
     ]
    },
    {
     "data": {
      "text/plain": "<Figure size 640x480 with 1 Axes>",
      "image/png": "[encoded data removed]"
     },
     "metadata": {},
     "output_type": "display_data"
    },
    {
     "name": "stdout",
     "output_type": "stream",
     "text": [
      "0.58\n",
      "2.25\n",
      "5.75\n"
     ]
    },
    {
     "data": {
      "text/plain": "<Figure size 640x480 with 1 Axes>",
      "image/png": "[encoded data removed]"
     },
     "metadata": {},
     "output_type": "display_data"
    }
   ]
  },
  {
   "cell_type": "code",
   "execution_count": null,
   "outputs": [],
   "source": [],
   "metadata": {
    "collapsed": false
   }
  }
 ]
}
