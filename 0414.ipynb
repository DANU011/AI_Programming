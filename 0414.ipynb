{
 "cells": [
  {
   "cell_type": "markdown",
   "source": [],
   "metadata": {
    "collapsed": false
   }
  },
  {
   "cell_type": "markdown",
   "source": [
    "# 검색 알고리즘\n",
    "- 검색 => 정렬 => 메모리(적게)\n",
    "- 검색 => 정렬x => N.P 문제가 생김 => 제한(?) Local\n",
    "- ex) 대표적으로 db가 이진트리를 씀.\n",
    "- 그래프 문제는 행렬로 바꿔서 푼다.\n",
    "- 네트워크 방향\n",
    "- 검색은 얼마나 빨리하냐 아니고 할 수 있냐의 문제\n",
    "- 정렬을 내가 만들어 쓸 생각은 하지 마라. => .sort 나 써라\n",
    "## 이진 검색(가장 대표적)\n",
    "## 코등테스트 관련\n",
    "1. 그래프 문제 => 트리로 해결\n",
    "2. 트리 문제 => 트리로 해결(재귀 (자바는 재귀X / 파이썬,js(크롬 되고 사파리 안됨) 재귀O))\n",
    "3. 정렬 관련 X => 검색 문제\n",
    "4. 링크드리스트 스택 큐 만들어 쓰다가 망함 '기본자료구조는 반드시 언어에서 제공하는 걸 사용'\n",
    "\n",
    "\n",
    "# 검색 알고리즘\n",
    "- 검색 => 정렬x => N.P => Local\n",
    "- 언덕 등반 알고리즘 왜? 힐 클라임\n",
    " - 최대 최소를 찾으려고 어디에 쓰이냐? 딥러닝에 써임.\n",
    "   - 확률적 경사 하강법\n",
    "      - 외판원 문제 계산 복잡도 이론 최단거리로 잇는 문제 안될거야\n",
    "            - 퀸문제\n",
    "\n",
    "# 반복문\n",
    "- for / while => 일반 반복문\n",
    "- foreach ... => 반복자\n",
    "           - generator !! 찾아보기 !!\n",
    "- async / await\n",
    "\n",
    "# 휴리스틱 = 대충 측정을 기준으로\n",
    "\n",
    "# js => ES6\n",
    "  ES6  imp => Google, MS, Apple, Moxila\n",
    "\n",
    "객체 => 상태와 메서드\n",
    "     => 메서드는 뭐에요? => 2) 상태를 변경하는 방법\n",
    "                            1) 계약\n",
    "     => 속성             =>\n",
    "     1) 메모리에 위치한 객체의 현재 상태\n",
    "\n",
    "# 식 => 값 => 순수 함수 like max\n",
    "# 문장 => 값 또는 상태 => 순수 함수 X\n",
    "\n",
    "\n",
    "1. 함수 작성 가능\n",
    "2. 파이 읽기 가능\n",
    "3. 리스트 사용 가능\n",
    "4. 반복문 사용 가능\n",
    "\n",
    "T1. pytest / juint => 켄트 백 \"테스트 주도 개발\"\n",
    "T2. 함수 연결해서 사용하는 방법"
   ],
   "metadata": {
    "collapsed": false
   }
  }
 ],
 "metadata": {
  "kernelspec": {
   "display_name": "Python 3",
   "language": "python",
   "name": "python3"
  },
  "language_info": {
   "codemirror_mode": {
    "name": "ipython",
    "version": 2
   },
   "file_extension": ".py",
   "mimetype": "text/x-python",
   "name": "python",
   "nbconvert_exporter": "python",
   "pygments_lexer": "ipython2",
   "version": "2.7.6"
  }
 },
 "nbformat": 4,
 "nbformat_minor": 0
}
